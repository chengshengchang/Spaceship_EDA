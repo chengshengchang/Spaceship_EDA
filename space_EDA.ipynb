{
 "cells": [
  {
   "cell_type": "markdown",
   "metadata": {},
   "source": [
    "# EDA \n",
    "## Binary classfication (Transported , not transported).\n",
    "\n",
    "## TODO\n",
    "\n",
    "- Fill in missing value in the bunch of columns. \n",
    "- Balance out the dataset if imbalenced.\n",
    "- Drop high cardinality columns."
   ]
  },
  {
   "cell_type": "code",
   "execution_count": null,
   "metadata": {},
   "outputs": [],
   "source": [
    "import pandas as pd\n",
    "from  pandas_profiling import ProfileReport  "
   ]
  },
  {
   "cell_type": "code",
   "execution_count": null,
   "metadata": {},
   "outputs": [],
   "source": [
    "## load data \n",
    "df = pd.read_csv('train.csv')\n",
    "df.info()\n"
   ]
  },
  {
   "cell_type": "code",
   "execution_count": null,
   "metadata": {},
   "outputs": [],
   "source": [
    "profile = ProfileReport(df, title = 'Spaceship Titanic')\n",
    "profile.to_notebook_iframe()\n"
   ]
  },
  {
   "cell_type": "code",
   "execution_count": null,
   "metadata": {},
   "outputs": [],
   "source": [
    "# preprocessing the cabin\n",
    "def split_cabin(x):\n",
    "    if len(str(x).split('/')) == 3:\n",
    "        return str(x).split('/')\n",
    "    else:\n",
    "        return ['Missing','Missing','Missing']\n"
   ]
  },
  {
   "cell_type": "code",
   "execution_count": null,
   "metadata": {},
   "outputs": [],
   "source": [
    "# Create a preprocessing function to transform our datasets\n",
    "\n",
    "from tkinter.tix import InputOnly\n",
    "\n",
    "\n",
    "def preprocessing(df):\n",
    "    # fill missing value in homeplanet\n",
    "    df['HomePlanet'].fillna('Missing', inplace = True)\n",
    "\n",
    "    # Cryosleep is highly correlated  - drop na rows\n",
    "\n",
    "    # Cabin preprocessing  - extract the deck and side \n",
    "    df['Tempdeck'] = df['Cabin'].apply(lambda x : split_cabin(x))\n",
    "    df['Deck'] = df['Tempdeck'].apply(lambda x : x[0])\n",
    "    df['Side'] = df['Tempdeck'].apply(lambda x : x[2])\n",
    "    df.drop('Tempdeck',axis=1 ,inplace=True)\n",
    "    \n",
    "    # Destination \n",
    "    df['Destination'].fillna('Missing' , inplace = True)\n",
    "\n",
    "    # Age \n",
    "    df['Age'].fillna(df['Age'].mean() , inplace = True)\n",
    "    \n",
    "    # VIP  - dropna rows\n",
    "    # Drop Name due to high cardinality\n",
    "    df.drop('Name' , axis = 1 , inplace = True)\n",
    "\n",
    "    # Monetary spending columns , because columns's value under the note majority are 0\n",
    "    df['RoomService'].fillna(0, inplace = True)\n",
    "    df['FoodCourt'].fillna(0, inplace = True)\n",
    "    df['ShoppingMall'].fillna(0, inplace = True)\n",
    "    df['Spa'].fillna(0, inplace = True)\n",
    "    df['VRDeck'].fillna(0, inplace = True)\n",
    "\n",
    "    # Dropna rows\n",
    "    df.dropna(inplace=True)"
   ]
  },
  {
   "cell_type": "code",
   "execution_count": null,
   "metadata": {},
   "outputs": [],
   "source": [
    "# check preprocessing is work\n",
    "cp = df.copy()\n",
    "preprocessing(cp)\n",
    "cp.info()"
   ]
  },
  {
   "cell_type": "markdown",
   "metadata": {},
   "source": [
    "## Modeling\n",
    "\n",
    "- Feature and target values - X , y\n",
    "\n",
    "- One hot encode any categorical features\n",
    "\n",
    "- Train  , validation set ( holdout split )\n",
    "\n",
    "- Train on a bunch of algos"
   ]
  },
  {
   "cell_type": "code",
   "execution_count": null,
   "metadata": {},
   "outputs": [],
   "source": [
    "# Import ML Libraries\n",
    "from sklearn.model_selection import train_test_split\n",
    "from sklearn.pipeline import make_pipeline\n",
    "from sklearn.preprocessing import StandardScaler"
   ]
  },
  {
   "cell_type": "code",
   "execution_count": null,
   "metadata": {},
   "outputs": [],
   "source": [
    "X = cp.drop('Transported' , axis =1)\n",
    "\n",
    "X.head()"
   ]
  },
  {
   "cell_type": "code",
   "execution_count": null,
   "metadata": {},
   "outputs": [],
   "source": []
  },
  {
   "cell_type": "code",
   "execution_count": null,
   "metadata": {},
   "outputs": [],
   "source": []
  }
 ],
 "metadata": {
  "kernelspec": {
   "display_name": "Python 3.10.6 64-bit",
   "language": "python",
   "name": "python3"
  },
  "language_info": {
   "codemirror_mode": {
    "name": "ipython",
    "version": 3
   },
   "file_extension": ".py",
   "mimetype": "text/x-python",
   "name": "python",
   "nbconvert_exporter": "python",
   "pygments_lexer": "ipython3",
   "version": "3.10.6"
  },
  "orig_nbformat": 4,
  "vscode": {
   "interpreter": {
    "hash": "b0fa6594d8f4cbf19f97940f81e996739fb7646882a419484c72d19e05852a7e"
   }
  }
 },
 "nbformat": 4,
 "nbformat_minor": 2
}
